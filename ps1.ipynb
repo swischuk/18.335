{
 "cells": [
  {
   "cell_type": "markdown",
   "metadata": {},
   "source": [
    "# <div style=\"text-align: center\">18.335/6.337 Problem Set 1 - Floating Point and Norms</div>\n",
    "## <div style=\"text-align: center\">Due Fri, Feb/16 at 11:59 pm (office hours: Thu, Feb/15, 4–5 pm)</div>\n",
    "### <div style=\"text-align: center\">Created by Wonseok Shin</div>"
   ]
  },
  {
   "cell_type": "markdown",
   "metadata": {},
   "source": [
    "### <div style=\"text-align: right\">Solved by [your name] in collaboration with [collaborators, if any]</div>"
   ]
  },
  {
   "cell_type": "markdown",
   "metadata": {},
   "source": [
    "$\\newcommand{\\Cmat}[2]{\\mathbb{C}^{#1\\times#2}}\\newcommand{\\Cvec}[1]{\\mathbb{C}^{#1}}\\newcommand{\\Rmat}[2]{\\mathbb{R}^{#1\\times#2}}\\newcommand{\\Rvec}[1]{\\mathbb{R}^{#1}}\\newcommand{\\null}{\\mathrm{null}}\\newcommand{\\range}{\\mathrm{range}}\\newcommand{\\rank}{\\mathrm{rank}}\\newcommand{\\nullity}{\\mathrm{nullity}}\\newcommand{\\sign}{\\mathrm{sign}}\\newcommand{\\norm}[1]{\\left\\|#1\\right\\|}\\newcommand{\\abs}[1]{\\left|#1\\right|}\\newcommand{\\epsmach}{\\epsilon_\\mathrm{machine}}\\newcommand{\\log}{\\mathrm{log}}\\newcommand{\\tanh}{\\mathrm{tanh}}\\newcommand{\\l}{\\lambda}\\newcommand{\\d}{\\delta}$"
   ]
  },
  {
   "cell_type": "markdown",
   "metadata": {},
   "source": [
    "## General instructions\n",
    "- Please archive all files (this Jupyter notebook plus other files if any) into a single ZIP file and upload it to the course website, so that the grader can run the Jupyter notebook in the extracted folder without adding anything.  (This greatly simplifies the grader's job.)\n",
    "- Some questions may require proofs or explanations, and there are a few options to submit them electronically.\n",
    "    1. Ideally, write down your proofs or explanations in the corresponding sections of this Jupyter notebook.  You can use $\\LaTeX$ commands for mathematical symbols, like $A = \\hat{U} \\Sigma V^*$, $\\sum_{j = 1}^{r} \\sigma_j u_j v_j^*$, and $\\left[\n",
    "\\begin{array}{cc}\n",
    " 1 & 2 \\\\\n",
    " 3 & 4 \\\\\n",
    "\\end{array}\n",
    "\\right]$.\n",
    "    2. If you are not familiar with $\\LaTeX$ commands, you can use any word processors with equation editors.  If you choose to use this option, make sure to convert the word processor file into PDF before submission.\n",
    "    3. If none of the above works for you, you can also submit a scan of your handwritten notes, but your handwriting must be clean and readable.\n",
    "- The scores of bonus problems, if any, will be used to compensate the points deducted in regular problems at the end of the semester.  In other words, \n",
    "$$\n",
    "\\text{your total p-set score} = \\min\\left\\{\\sum_n\\text{your $n$th p-set score $with$ bonus problems}, \\sum_n\\text{perfect $n$th p-set score $without$ bonus problems}\\right\\}.\n",
    "$$"
   ]
  },
  {
   "cell_type": "markdown",
   "metadata": {},
   "source": [
    "## Problem 1.  Floating-point peculiarity [4 pts]\n",
    "\n",
    "In this problem, we will see some peculiar behaviors of floating-point numbers and try to understand them.\n",
    "\n",
    "A few things to keep in mind:\n",
    "\n",
    "- As discussed in class, the bit representation of IEEE double-precision floating point numbers is $S\\,E_1 \\cdots E_{11} M_1 \\cdots M_{52}$, where\n",
    "    - a single bit $S$ stores the sign,\n",
    "    - 11 bits $E_1 \\cdots E_{11}$ store the exponent information, and \n",
    "    - 52 bits $M_1 \\cdots M_{52}$ store the mantissa (or significand) information.\n",
    "- `eps()` in Julia returns the gap between 1 and the next larger number in the double-precision floating-point system.  \n",
    "    - This is *not* the \"machine epsilon\" $\\epsmach = \\frac{1}{2}\\beta^{-(t-1)}$ defined in Eq. (13.3) of T&B, but is twice as big, i.e., `eps()` $=2\\epsmach$.\n",
    "    - T&B's definition of machine epsilon is not universal: many other authors take the value of `eps()` itself (not a half) as machine epsilon, as shown [here](https://en.wikipedia.org/wiki/Machine_epsilon#Values_for_standard_hardware_floating_point_arithmetics).\n",
    "- `bin()` in Julia is useful for obtaining the binary representation of integers.  For example, `bin(23)` returns `\"10111\"`."
   ]
  },
  {
   "cell_type": "markdown",
   "metadata": {},
   "source": [
    "(a) [0.5 pts] Find the bit representation of the value returned by `eps()`.  (Indicate the values of the sign bit $S$, exponent bits $E_1 \\cdots E_{11}$, and the mantissa bits $M_1 \\cdots M_{52}$.)"
   ]
  },
  {
   "cell_type": "markdown",
   "metadata": {},
   "source": [
    "***Solution.***\n",
    "\n",
    "[Write your solution here.]"
   ]
  },
  {
   "cell_type": "markdown",
   "metadata": {},
   "source": [
    "(b) [1 pt] Evaluate `1+eps()-1` and `2+eps()-2`.  Explain why you get different results.  (Hint: fundamental axiom of floating-point arithmetic.)"
   ]
  },
  {
   "cell_type": "markdown",
   "metadata": {},
   "source": [
    "***Solution.***\n",
    "\n",
    "[Write your solution here.]"
   ]
  },
  {
   "cell_type": "markdown",
   "metadata": {},
   "source": [
    "(c) [0.5 pts] Evaluate `(2^-537.)^2` and `(2^-538.)^2`.  Explain why you get 0 from the latter."
   ]
  },
  {
   "cell_type": "markdown",
   "metadata": {},
   "source": [
    "***Solution.***\n",
    "\n",
    "[Write your solution here.]"
   ]
  },
  {
   "cell_type": "markdown",
   "metadata": {},
   "source": [
    "(d) [1 pt] (Taken from Exercise 13.2b of T&B)  The double-precision floating-point system includes many integers, but not all of them.  What is the smallest positive integer $n$ that does not belong to this system?  "
   ]
  },
  {
   "cell_type": "markdown",
   "metadata": {},
   "source": [
    "***Solution.***\n",
    "\n",
    "[Write your solution here.]"
   ]
  },
  {
   "cell_type": "markdown",
   "metadata": {},
   "source": [
    "(e) [1 pt] (Taken from Exercise 13.2c of T&B)  For the answer $n$ of Part (d), detertmine whether or not each of $n+1$, $n+2$, $n+3$ belongs to the double-precision floating-point system.\n",
    "\n",
    "Write Julia code that validates your analysis.  Write the code such that it also confirms $n$ indeed does not belong to the double-precision floating-point system, whereas $n-3$, $n-2$, $n-1$ do (as $n$ is the smallest that does not).  (Hint: `float(n)` produces the floating-point approximation of an integer `n`.)"
   ]
  },
  {
   "cell_type": "markdown",
   "metadata": {},
   "source": [
    "***Solution.***\n",
    "\n",
    "[Write your solution here.]"
   ]
  },
  {
   "cell_type": "markdown",
   "metadata": {},
   "source": [
    "## Problem 2.  Accurate evaluation of mathematical functions [3 pts]\n",
    "\n",
    "In this problem, we will devise ways to evaluate some mathematical functions on computers accurately."
   ]
  },
  {
   "cell_type": "markdown",
   "metadata": {},
   "source": [
    "(a) [1 pt] Evaluation of $f(x) = e^x - 1$ around $x = 0$.\n",
    "\n",
    "- Explain the numerical problem you may experience during this evaluation.\n",
    "- Devise a method to avoid this problem.  (Hint: $\\tanh(x)$.)\n",
    "- Implement your method in `f_new(x)` below."
   ]
  },
  {
   "cell_type": "markdown",
   "metadata": {},
   "source": [
    "***Solution.***\n",
    "\n",
    "[Write your solution here.]"
   ]
  },
  {
   "cell_type": "code",
   "execution_count": null,
   "metadata": {
    "collapsed": true,
    "scrolled": true
   },
   "outputs": [],
   "source": [
    "f_old(x) = exp(x) - 1\n",
    "f_new(x) = "
   ]
  },
  {
   "cell_type": "markdown",
   "metadata": {},
   "source": [
    "### Validation of your implementation\n",
    "\n",
    "Validate your implementation of `f_new(x)` by using the following code block that compares the numerical derivatives of `f_old(x)` and `f_new(x)` at `x = 0`.  Unlike `f_old(x)` that produces the completely wrong derivative 0.0, `f_new(x)` must produce a derivative close to the exact value 1.0."
   ]
  },
  {
   "cell_type": "code",
   "execution_count": null,
   "metadata": {
    "collapsed": true
   },
   "outputs": [],
   "source": [
    "x = 0.0\n",
    "dx = eps() / 10\n",
    "println(\"f_old'(0) =  $((f_old(x+dx) - f_old(x)) / dx)\")\n",
    "println(\"f_new'(0) =  $((f_new(x+dx) - f_new(x)) / dx)\")"
   ]
  },
  {
   "cell_type": "markdown",
   "metadata": {},
   "source": [
    "(b) [1 pt] Evaluation of $g(x) = \\log(1+x)$ around $x = 0$.  ($\\log$ is the natural logarithm.)\n",
    "\n",
    "- Explain the numerical problem you may experience during this evaluation.  (Hint: Prob. 1(b).)\n",
    "- Devise a method to avoid this problem.  (Hint: what is the relationship between $e^x-1$ and $\\log(1+x)$?)\n",
    "- Implement your method in `g_new(x)` below."
   ]
  },
  {
   "cell_type": "markdown",
   "metadata": {},
   "source": [
    "***Solution.***\n",
    "\n",
    "[Write your solution here.]"
   ]
  },
  {
   "cell_type": "code",
   "execution_count": null,
   "metadata": {
    "collapsed": true
   },
   "outputs": [],
   "source": [
    "g_old(x) = log(1+x)\n",
    "g_new(x) = "
   ]
  },
  {
   "cell_type": "markdown",
   "metadata": {},
   "source": [
    "### Validation of your implementation\n",
    "\n",
    "Validate your implementation of `g_new(x)` by using the following code block that compares the numerical derivatives of `g_old(x)` and `g_new(x)` at `x = 0`.  Unlike `g_old(x)` that produces the completely wrong derivative 0.0, `g_new(x)` must produce a derivative close to the exact value 1.0."
   ]
  },
  {
   "cell_type": "code",
   "execution_count": null,
   "metadata": {
    "collapsed": true
   },
   "outputs": [],
   "source": [
    "x = 0.0\n",
    "dx = eps() / 10\n",
    "println(\"g_old'(0) =  $((g_old(x+dx) - g_old(x)) / dx)\")\n",
    "println(\"g_new'(0) =  $((g_new(x+dx) - g_new(x)) / dx)\")"
   ]
  },
  {
   "cell_type": "markdown",
   "metadata": {},
   "source": [
    "(b) [1 pt] Evaluation of $h(x,y) = \\sqrt{x^2+y^2}$.\n",
    "\n",
    "- Explain at least one numerical problem that is different from those occurred in Parts (a) and (b) that you may experience during this evaluation.\n",
    "- Devise a method to avoid this problem.\n",
    "- Implement your method in `h_new(x,y)` below."
   ]
  },
  {
   "cell_type": "markdown",
   "metadata": {},
   "source": [
    "***Solution.***\n",
    "\n",
    "[Write your solution here.]"
   ]
  },
  {
   "cell_type": "markdown",
   "metadata": {},
   "source": [
    "### Validation of your implementation\n",
    "\n",
    "Validate your implementation of `h_new(x,y)` by using the following code block that compares the values of `h_old(x,y)` and `h_new(x,y)`.  The value of `h_old(x,y)` does not make sense here, but the value of your `h_new(x,y)` must."
   ]
  },
  {
   "cell_type": "code",
   "execution_count": null,
   "metadata": {
    "collapsed": true
   },
   "outputs": [],
   "source": [
    "h_old(x,y) = sqrt(x^2+y^2)\n",
    "h_new(x,y) = "
   ]
  },
  {
   "cell_type": "code",
   "execution_count": null,
   "metadata": {
    "collapsed": true
   },
   "outputs": [],
   "source": [
    "x = 1e200\n",
    "y = 1e200\n",
    "println(\"h_old(x,y) = $(h_old(x,y))\")\n",
    "println(\"h_new(x,y) = $(h_new(x,y))\")"
   ]
  },
  {
   "cell_type": "markdown",
   "metadata": {},
   "source": [
    "## Problem 3.  Dual norm and $B$ such that $\\left\\| A B x\\right\\| =\\left\\| A\\right\\|  \\left\\| B\\right\\|  \\left\\| x\\right\\|$ [3 pts]\n",
    "\n",
    "(Partly taken from Exercise 3.6 of Trefethen and Bau)\n",
    "\n",
    "In this problem, we will prove step-by-step that for a given square matrix $A \\in \\mathbb{C}^{m\\times m}$ and column vector $x \\in \\mathbb{C}^m$, there exists a square matrix $B$ such that $\\left\\| A B x\\right\\| =\\left\\| A\\right\\|  \\left\\| B\\right\\|  \\left\\| x\\right\\|$, where the matrix norm is induced by the vector norm.  (This fact will be used in proving the important Theorem 12.2 of Trefethen & Bau later in this course.)\n",
    "\n",
    "The *dual norm* turns out to be a useful tool for the proof.  Let $\\left\\| \\cdot \\right\\|$ be any vector norm on $\\mathbb{C}^m$ with $m \\ge 2$.  The dual norm $\\left\\| \\cdot \\right\\|_*$ of the norm $\\left\\| \\cdot \\right\\|$ is defined as\n",
    "\n",
    "$$\n",
    "\\left\\| x\\right\\|_* = \\max_{v \\neq 0} \\frac{\\left| x^* v\\right|}{\\left\\| v \\right\\|} = \\max_{\\left\\| v \\right\\|=1} \\left| x^* v \\right|.\n",
    "$$\n",
    "\n",
    "Note that the dual norm is defined in terms of $\\left\\| \\cdot \\right\\|$.\n",
    "\n",
    "Below, the proofs of some parts rely on the proofs of the previous parts.  If the previous parts are too difficult to prove, you are welcome to take those parts for granted without proof and use them in proving the next parts."
   ]
  },
  {
   "cell_type": "markdown",
   "metadata": {},
   "source": [
    "(a) [0.5 pts] Prove that $\\left\\| \\cdot \\right\\|_*$ is indeed a norm."
   ]
  },
  {
   "cell_type": "markdown",
   "metadata": {},
   "source": [
    "***Proof.***\n",
    "\n",
    "[Write your proof here.]"
   ]
  },
  {
   "cell_type": "markdown",
   "metadata": {},
   "source": [
    "(b) [0.5 pts] Prove that $\\left\\| x\\right\\|_{**} \\leq \\left\\| x\\right\\|$ for all $x\\in \\mathbb{C}^m$, i.e., the dual norm of the dual norm is less than or equal to the original norm."
   ]
  },
  {
   "cell_type": "markdown",
   "metadata": {},
   "source": [
    "***Proof.***\n",
    "\n",
    "[Write your proof here.]"
   ]
  },
  {
   "cell_type": "markdown",
   "metadata": {},
   "source": [
    "(c) [0.5 pts] In fact, we have not only $\\left\\| x\\right\\|_{**} \\leq \\left\\| x\\right\\|$ but also $\\left\\| x\\right\\|_{**} =\\left\\| x\\right\\|$ for all $x\\in \\mathbb{C}^m$, i.e., the dual norm of the dual norm *is* the original norm.  Using this fact without proof, show that for a given $x\\in \\mathbb{C}^m$, there exists a nonzero $w\\in \\mathbb{C}^m$ such that $w^* x = \\left\\| w\\right\\|_* \\left\\| x\\right\\|$."
   ]
  },
  {
   "cell_type": "markdown",
   "metadata": {},
   "source": [
    "***Proof.***\n",
    "\n",
    "[Write your proof here.]"
   ]
  },
  {
   "cell_type": "markdown",
   "metadata": {},
   "source": [
    "(d) [1 pt] Let nonzero $x,y\\in \\mathbb{C}^m$ be given.  Show that there exists a rank-1 matrix $B = y z^*$ such that $B x = y$ and $\\left\\| B\\right\\|  \\left\\| x\\right\\| =\\left\\| y\\right\\|$, where $\\left\\| B\\right\\|$ is the matrix norm of $B$ induced by the vector norm $\\left\\| \\cdot \\right\\|$.  (Hint: use Part (c).)"
   ]
  },
  {
   "cell_type": "markdown",
   "metadata": {},
   "source": [
    "***Proof.***\n",
    "\n",
    "[Write your proof here.]"
   ]
  },
  {
   "cell_type": "markdown",
   "metadata": {},
   "source": [
    "(e) [0.5 pts] For a given square matrix $A\\in \\mathbb{C}^{m\\times m}$ and column vector $x\\in \\mathbb{C}^m$, show that there exists $B\\in \\mathbb{C}^{m\\times m}$ such that $\\left\\| A B x \\right\\| =\\left\\| A \\right\\| \\left\\| B\\right\\| \\left\\| x\\right\\|$, where the matrix norm is induced by the vector norm.  (Hint: use Part (d).)  "
   ]
  },
  {
   "cell_type": "markdown",
   "metadata": {},
   "source": [
    "***Proof.***\n",
    "\n",
    "[Write your proof here.]"
   ]
  },
  {
   "cell_type": "markdown",
   "metadata": {},
   "source": [
    "## Bonus Problem.  Accurate evaluation of an infinite series [2 pts]\n",
    "\n",
    "Consider an infinite series $s = \\sum_{k=1}^{\\infty} \\frac{1}{k^4}$.  The goal of this problem is to find the approximate value $\\hat{s}$ of $s$ with double-precision accuracy (i.e., $\\hat{s} = \\mathrm{fl}(s)$).\n",
    "\n",
    "The terms in the series decrease quickly to 0.  Therefore, the truncated series $s_n = \\sum_{k=1}^{n} \\frac{1}{k^4}$ for a finite $n$ would be a good approximation of the infinite series $s$ for sufficiently large $n$."
   ]
  },
  {
   "cell_type": "markdown",
   "metadata": {},
   "source": [
    "(a) [1 pt] Find $n$ for which $s_n$ is a double-precision-or-more accurate approximation of $s$.  Use the following hints:\n",
    "- The error is $s - s_n = \\sum_{k=n+1}^{\\infty} \\frac{1}{k^4}$.  How small must this error be to achieve the desired accuracy in $s_n$?\n",
    "- What is a close upper bound of the error $s - s_n$?  Can you find one as the area under some curve, which can be calculated by a definite integral?"
   ]
  },
  {
   "cell_type": "markdown",
   "metadata": {},
   "source": [
    "***Solution.***\n",
    "\n",
    "[Write your solution here.]"
   ]
  },
  {
   "cell_type": "markdown",
   "metadata": {},
   "source": [
    "(b) [1 pt] In fact, $s = \\frac{\\pi^4}{90}$ exactly (see [here](https://en.wikipedia.org/wiki/Riemann_zeta_function#Specific_values)), so the desired $\\hat{s}$ is nothing but the floating-point representation of $\\frac{\\pi^4}{90}$. \n",
    "\n",
    "Now, the function `s_truncated` below takes `n` as an argument and evaluates the truncated series $s_n$.  You may expect that `s_truncated` would return $\\hat{s}$ if $n$ obtained in Part (a) is used as the argument, but you can verify that is not the case using the subsequent code block.\n",
    "\n",
    "Change one line of `s_truncated` to make it evaluate $s_n$ more accurately.  Briefly explain in words why your change makes `s_truncated` more accurate.\n",
    "\n",
    "After this change, `s_truncated` for $n$ obtained in Part (a) must return $\\hat{s}$."
   ]
  },
  {
   "cell_type": "markdown",
   "metadata": {},
   "source": [
    "***Solution.***\n",
    "\n",
    "[Write your solution here.]"
   ]
  },
  {
   "cell_type": "code",
   "execution_count": null,
   "metadata": {
    "collapsed": true
   },
   "outputs": [],
   "source": [
    "function s_truncated(n)\n",
    "    s = 0.0\n",
    "    for k = 1:n\n",
    "        s += 1.0/float(k)^4\n",
    "    end\n",
    "    \n",
    "    return s    \n",
    "end"
   ]
  },
  {
   "cell_type": "code",
   "execution_count": null,
   "metadata": {
    "collapsed": true
   },
   "outputs": [],
   "source": [
    "n =   # use your n obtained in Part (a)\n",
    "ŝₙ = s_truncated(n)\n",
    "ŝ = π^4 / 90\n",
    "ŝ - ŝₙ"
   ]
  }
 ],
 "metadata": {
  "anaconda-cloud": {},
  "kernelspec": {
   "display_name": "Julia 0.6.3-pre",
   "language": "julia",
   "name": "julia-0.6"
  },
  "language_info": {
   "file_extension": ".jl",
   "mimetype": "application/julia",
   "name": "julia",
   "version": "0.6.3"
  }
 },
 "nbformat": 4,
 "nbformat_minor": 1
}
